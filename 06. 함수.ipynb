{
 "cells": [
  {
   "cell_type": "markdown",
   "id": "0cbb10a7",
   "metadata": {},
   "source": [
    "# 15596, [정수 N개의 합](https://www.acmicpc.net/problem/15596)"
   ]
  },
  {
   "cell_type": "code",
   "execution_count": 3,
   "id": "b9711377",
   "metadata": {
    "scrolled": true
   },
   "outputs": [],
   "source": [
    "def solve(a):\n",
    "    ans = 0\n",
    "    for i in a:\n",
    "        ans += i\n",
    "    return ans"
   ]
  },
  {
   "cell_type": "markdown",
   "id": "95e6a301",
   "metadata": {},
   "source": [
    "# 4673, [셀프 넘버](https://www.acmicpc.net/problem/4673)"
   ]
  },
  {
   "cell_type": "code",
   "execution_count": null,
   "id": "40971225",
   "metadata": {
    "scrolled": false
   },
   "outputs": [],
   "source": []
  },
  {
   "cell_type": "markdown",
   "id": "347f1e8a",
   "metadata": {},
   "source": [
    "# 1065, [한수](https://www.acmicpc.net/problem/1065)"
   ]
  },
  {
   "cell_type": "code",
   "execution_count": null,
   "id": "4a287b1e",
   "metadata": {},
   "outputs": [],
   "source": []
  }
 ],
 "metadata": {
  "kernelspec": {
   "display_name": "Python 3 (ipykernel)",
   "language": "python",
   "name": "python3"
  },
  "language_info": {
   "codemirror_mode": {
    "name": "ipython",
    "version": 3
   },
   "file_extension": ".py",
   "mimetype": "text/x-python",
   "name": "python",
   "nbconvert_exporter": "python",
   "pygments_lexer": "ipython3",
   "version": "3.9.7"
  }
 },
 "nbformat": 4,
 "nbformat_minor": 5
}
