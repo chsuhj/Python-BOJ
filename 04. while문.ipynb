{
 "cells": [
  {
   "cell_type": "markdown",
   "id": "0cbb10a7",
   "metadata": {},
   "source": [
    "## 10952, [A+B - 5](https://www.acmicpc.net/problem/10952)"
   ]
  },
  {
   "cell_type": "code",
   "execution_count": 2,
   "id": "b9711377",
   "metadata": {
    "scrolled": true
   },
   "outputs": [
    {
     "name": "stdout",
     "output_type": "stream",
     "text": [
      "1 2\n",
      "3\n",
      "0 0\n"
     ]
    }
   ],
   "source": [
    "while True:\n",
    "    a, b = map(int, input().split())\n",
    "    if a == 0 and b == 0:\n",
    "        break\n",
    "    else:\n",
    "        print(a+b)"
   ]
  },
  {
   "cell_type": "markdown",
   "id": "95e6a301",
   "metadata": {},
   "source": [
    "## 10951, [A+B - 4](https://www.acmicpc.net/problem/10951)"
   ]
  },
  {
   "cell_type": "code",
   "execution_count": 3,
   "id": "40971225",
   "metadata": {
    "scrolled": true
   },
   "outputs": [
    {
     "name": "stdout",
     "output_type": "stream",
     "text": [
      "1 2\n",
      "3\n",
      "3 4\n",
      "7\n",
      "\n"
     ]
    }
   ],
   "source": [
    "while True:\n",
    "    try:\n",
    "        a, b = map(int, input().split())\n",
    "        print(a+b)\n",
    "    except:\n",
    "        break"
   ]
  },
  {
   "cell_type": "markdown",
   "id": "347f1e8a",
   "metadata": {},
   "source": [
    "## 1110, [더하기 사이클](https://www.acmicpc.net/problem/1110)"
   ]
  },
  {
   "cell_type": "code",
   "execution_count": null,
   "id": "4a287b1e",
   "metadata": {},
   "outputs": [],
   "source": []
  }
 ],
 "metadata": {
  "kernelspec": {
   "display_name": "Python 3 (ipykernel)",
   "language": "python",
   "name": "python3"
  },
  "language_info": {
   "codemirror_mode": {
    "name": "ipython",
    "version": 3
   },
   "file_extension": ".py",
   "mimetype": "text/x-python",
   "name": "python",
   "nbconvert_exporter": "python",
   "pygments_lexer": "ipython3",
   "version": "3.9.7"
  }
 },
 "nbformat": 4,
 "nbformat_minor": 5
}
