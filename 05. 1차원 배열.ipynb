{
 "cells": [
  {
   "cell_type": "markdown",
   "id": "98333b09",
   "metadata": {},
   "source": [
    "## 10818, [최소, 최대](https://www.acmicpc.net/problem/10818)"
   ]
  },
  {
   "cell_type": "code",
   "execution_count": 3,
   "id": "af39c06d",
   "metadata": {
    "scrolled": true
   },
   "outputs": [
    {
     "name": "stdout",
     "output_type": "stream",
     "text": [
      "2\n",
      "1 2\n",
      "1 2\n"
     ]
    }
   ],
   "source": [
    "cnt = int(input())\n",
    "numbers = list(map(int, input().split()))\n",
    "print(min(numbers),max(numbers))"
   ]
  },
  {
   "cell_type": "markdown",
   "id": "314ab66a",
   "metadata": {},
   "source": [
    "## 2562, [최댓값](https://www.acmicpc.net/problem/2562)"
   ]
  },
  {
   "cell_type": "code",
   "execution_count": 2,
   "id": "efb94f4d",
   "metadata": {},
   "outputs": [
    {
     "name": "stdout",
     "output_type": "stream",
     "text": [
      "1\n",
      "2\n",
      "3\n",
      "4\n",
      "5\n",
      "6\n",
      "7\n",
      "8\n",
      "9\n",
      "9\n",
      "9\n"
     ]
    }
   ],
   "source": [
    "num_list = []\n",
    "for i in range(9):\n",
    "    num_list.append(int(input()))\n",
    "    \n",
    "print(max(num_list))\n",
    "print(num_list.index(max(num_list))+1)"
   ]
  },
  {
   "cell_type": "markdown",
   "id": "a47198dc",
   "metadata": {},
   "source": [
    "## 2577, [숫자의 개수](https://www.acmicpc.net/problem/2577)"
   ]
  },
  {
   "cell_type": "code",
   "execution_count": null,
   "id": "b83d9736",
   "metadata": {},
   "outputs": [],
   "source": []
  },
  {
   "cell_type": "markdown",
   "id": "2b692990",
   "metadata": {},
   "source": [
    "## 3052, [나머지](https://www.acmicpc.net/problem/3052)"
   ]
  },
  {
   "cell_type": "code",
   "execution_count": null,
   "id": "90e87164",
   "metadata": {},
   "outputs": [],
   "source": []
  },
  {
   "cell_type": "markdown",
   "id": "3770ca8d",
   "metadata": {},
   "source": [
    "## 1546, [평균](https://www.acmicpc.net/problem/1546)"
   ]
  },
  {
   "cell_type": "code",
   "execution_count": null,
   "id": "ee6c83b5",
   "metadata": {},
   "outputs": [],
   "source": []
  },
  {
   "cell_type": "markdown",
   "id": "567c44a9",
   "metadata": {},
   "source": [
    "## 8958, [OX퀴즈](https://www.acmicpc.net/problem(8958)"
   ]
  },
  {
   "cell_type": "code",
   "execution_count": null,
   "id": "984ef7ab",
   "metadata": {},
   "outputs": [],
   "source": []
  },
  {
   "cell_type": "markdown",
   "id": "3ae1a8ae",
   "metadata": {},
   "source": [
    "## 4344, [평균은 넘겠지](https://www.acmicpc.net/problem/4344)"
   ]
  },
  {
   "cell_type": "code",
   "execution_count": null,
   "id": "ac2ae4cf",
   "metadata": {},
   "outputs": [],
   "source": []
  }
 ],
 "metadata": {
  "kernelspec": {
   "display_name": "Python 3 (ipykernel)",
   "language": "python",
   "name": "python3"
  },
  "language_info": {
   "codemirror_mode": {
    "name": "ipython",
    "version": 3
   },
   "file_extension": ".py",
   "mimetype": "text/x-python",
   "name": "python",
   "nbconvert_exporter": "python",
   "pygments_lexer": "ipython3",
   "version": "3.9.7"
  }
 },
 "nbformat": 4,
 "nbformat_minor": 5
}
