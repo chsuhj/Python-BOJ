{
 "cells": [
  {
   "cell_type": "markdown",
   "id": "98333b09",
   "metadata": {},
   "source": [
    "## 10818, [최소, 최대](https://www.acmicpc.net/problem/10818)"
   ]
  },
  {
   "cell_type": "code",
   "execution_count": 3,
   "id": "af39c06d",
   "metadata": {
    "scrolled": false
   },
   "outputs": [
    {
     "name": "stdout",
     "output_type": "stream",
     "text": [
      "2\n",
      "1 2\n",
      "1 2\n"
     ]
    }
   ],
   "source": [
    "cnt = int(input())\n",
    "numbers = list(map(int, input().split()))\n",
    "print(min(numbers),max(numbers))"
   ]
  },
  {
   "cell_type": "markdown",
   "id": "314ab66a",
   "metadata": {},
   "source": [
    "## 2562, [최댓값](https://www.acmicpc.net/problem/2562)"
   ]
  },
  {
   "cell_type": "code",
   "execution_count": 2,
   "id": "efb94f4d",
   "metadata": {},
   "outputs": [
    {
     "name": "stdout",
     "output_type": "stream",
     "text": [
      "1\n",
      "2\n",
      "3\n",
      "4\n",
      "5\n",
      "6\n",
      "7\n",
      "8\n",
      "9\n",
      "9\n",
      "9\n"
     ]
    }
   ],
   "source": [
    "num_list = []\n",
    "for i in range(9):\n",
    "    num_list.append(int(input()))\n",
    "    \n",
    "print(max(num_list))\n",
    "print(num_list.index(max(num_list))+1)"
   ]
  },
  {
   "cell_type": "markdown",
   "id": "a47198dc",
   "metadata": {},
   "source": [
    "## 2577, [숫자의 개수](https://www.acmicpc.net/problem/2577)"
   ]
  },
  {
   "cell_type": "code",
   "execution_count": 2,
   "id": "b83d9736",
   "metadata": {},
   "outputs": [
    {
     "name": "stdout",
     "output_type": "stream",
     "text": [
      "123\n",
      "444\n",
      "676\n",
      "0\n",
      "2\n",
      "1\n",
      "1\n",
      "0\n",
      "0\n",
      "1\n",
      "2\n",
      "0\n",
      "1\n"
     ]
    }
   ],
   "source": [
    "a = int(input())\n",
    "b = int(input())\n",
    "c = int(input())\n",
    "\n",
    "result = list(str(a * b * c))\n",
    "for i in range(10):\n",
    "    print(result.count(str(i)))"
   ]
  },
  {
   "cell_type": "markdown",
   "id": "2b692990",
   "metadata": {},
   "source": [
    "## 3052, [나머지](https://www.acmicpc.net/problem/3052)"
   ]
  },
  {
   "cell_type": "code",
   "execution_count": 2,
   "id": "90e87164",
   "metadata": {},
   "outputs": [
    {
     "name": "stdout",
     "output_type": "stream",
     "text": [
      "1\n",
      "2\n",
      "3\n",
      "1\n",
      "2\n",
      "3\n",
      "1\n",
      "22\n",
      "3\n",
      "4\n",
      "5\n"
     ]
    }
   ],
   "source": [
    "n = []\n",
    "\n",
    "for i in range(10):\n",
    "    a = int(input())\n",
    "    b = a % 42\n",
    "    n.append(b)\n",
    "    \n",
    "s = set(n)\n",
    "print(len(s))"
   ]
  },
  {
   "cell_type": "markdown",
   "id": "3770ca8d",
   "metadata": {},
   "source": [
    "## 1546, [평균](https://www.acmicpc.net/problem/1546)"
   ]
  },
  {
   "cell_type": "code",
   "execution_count": 1,
   "id": "ee6c83b5",
   "metadata": {},
   "outputs": [
    {
     "name": "stdout",
     "output_type": "stream",
     "text": [
      "3\n",
      "20 30 40\n",
      "75.0\n"
     ]
    }
   ],
   "source": [
    "n = int(input())\n",
    "test_list = list(map(int, input().split()))\n",
    "max_score = max(test_list)\n",
    "\n",
    "new_list = []\n",
    "for score in test_list :\n",
    "    new_list.append(score/max_score *100)\n",
    "test_avg = sum(new_list)/n\n",
    "print(test_avg)"
   ]
  },
  {
   "cell_type": "markdown",
   "id": "567c44a9",
   "metadata": {},
   "source": [
    "## 8958, [OX퀴즈](https://www.acmicpc.net/problem(8958)"
   ]
  },
  {
   "cell_type": "code",
   "execution_count": 7,
   "id": "984ef7ab",
   "metadata": {
    "scrolled": false
   },
   "outputs": [
    {
     "name": "stdout",
     "output_type": "stream",
     "text": [
      "2\n",
      "OOOX\n",
      "6\n",
      "OXXXOOO\n",
      "7\n"
     ]
    }
   ],
   "source": [
    "n = int(input())\n",
    "for i in range(n):\n",
    "    o = input()\n",
    "    s = list(o)\n",
    "    sum = 0\n",
    "    plus = 1\n",
    "    for i in s:\n",
    "        if i == 'O':\n",
    "            sum += plus\n",
    "            plus += 1\n",
    "        else:\n",
    "            plus = 1\n",
    "    print(sum)"
   ]
  },
  {
   "cell_type": "markdown",
   "id": "3ae1a8ae",
   "metadata": {},
   "source": [
    "## 4344, [평균은 넘겠지](https://www.acmicpc.net/problem/4344)"
   ]
  },
  {
   "cell_type": "code",
   "execution_count": 20,
   "id": "ac2ae4cf",
   "metadata": {},
   "outputs": [
    {
     "name": "stdout",
     "output_type": "stream",
     "text": [
      "3\n",
      "3 33 44 55\n",
      "33.333%\n",
      "2 \n",
      "0.000%\n",
      "4 20 40 40 30\n",
      "50.000%\n"
     ]
    }
   ],
   "source": [
    "C = int(input())\n",
    "\n",
    "for i in range(C):\n",
    "    testcase = list(map(int, input().split()))\n",
    "    average = sum(testcase[1:])/testcase[0]\n",
    "    \n",
    "    count = 0\n",
    "    for score in testcase[1:]:\n",
    "        if score > average:\n",
    "            count +=1\n",
    "            \n",
    "    rate = count/testcase[0] *100\n",
    "    print('%.3f' %rate + '%')"
   ]
  },
  {
   "cell_type": "code",
   "execution_count": null,
   "id": "63225f2f",
   "metadata": {},
   "outputs": [],
   "source": []
  }
 ],
 "metadata": {
  "kernelspec": {
   "display_name": "Python 3 (ipykernel)",
   "language": "python",
   "name": "python3"
  },
  "language_info": {
   "codemirror_mode": {
    "name": "ipython",
    "version": 3
   },
   "file_extension": ".py",
   "mimetype": "text/x-python",
   "name": "python",
   "nbconvert_exporter": "python",
   "pygments_lexer": "ipython3",
   "version": "3.9.7"
  }
 },
 "nbformat": 4,
 "nbformat_minor": 5
}
