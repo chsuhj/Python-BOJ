{
 "cells": [
  {
   "cell_type": "markdown",
   "id": "98333b09",
   "metadata": {},
   "source": [
    "## 1330, [두 수 비교하기](https://www.acmicpc.net/problem/1330)"
   ]
  },
  {
   "cell_type": "code",
   "execution_count": 4,
   "id": "af39c06d",
   "metadata": {},
   "outputs": [
    {
     "name": "stdout",
     "output_type": "stream",
     "text": [
      "1 2\n",
      "<\n"
     ]
    }
   ],
   "source": [
    "A, B = input().split()\n",
    "A = int(A)\n",
    "B = int(B)\n",
    "if A > B : \n",
    "    print('>')\n",
    "elif A < B : \n",
    "    print('<')\n",
    "elif A == B : \n",
    "    print('==')"
   ]
  },
  {
   "cell_type": "markdown",
   "id": "314ab66a",
   "metadata": {},
   "source": [
    "## 9498, [시험 성적](https://www.acmicpc.net/problem/9498)"
   ]
  },
  {
   "cell_type": "code",
   "execution_count": 2,
   "id": "efb94f4d",
   "metadata": {},
   "outputs": [
    {
     "name": "stdout",
     "output_type": "stream",
     "text": [
      "12\n",
      "F\n"
     ]
    }
   ],
   "source": [
    "A = input()\n",
    "A = int(A)\n",
    "\n",
    "if A >= 90 : \n",
    "    print('A')\n",
    "elif A >= 80 : \n",
    "    print('B')\n",
    "elif A >= 70 : \n",
    "    print('C')\n",
    "elif A >= 60 : \n",
    "    print('D')\n",
    "elif A < 60 : \n",
    "    print('F')"
   ]
  },
  {
   "cell_type": "markdown",
   "id": "a47198dc",
   "metadata": {},
   "source": [
    "## 2753, [윤년](https://www.acmicpc.net/problem/2753)"
   ]
  },
  {
   "cell_type": "code",
   "execution_count": 3,
   "id": "b83d9736",
   "metadata": {},
   "outputs": [
    {
     "name": "stdout",
     "output_type": "stream",
     "text": [
      "2002\n",
      "0\n"
     ]
    }
   ],
   "source": [
    "A = input()\n",
    "A = int(A)\n",
    "\n",
    "if A%400 == 0 : \n",
    "    print(1)\n",
    "elif A%100 == 0 :\n",
    "    print(0)\n",
    "elif A%4 == 0 :\n",
    "    print(1)\n",
    "else :\n",
    "    print(0)"
   ]
  },
  {
   "cell_type": "markdown",
   "id": "2b692990",
   "metadata": {},
   "source": [
    "## 14681, [사분면 고르기](https://www.acmicpc.net/problem/14681)"
   ]
  },
  {
   "cell_type": "code",
   "execution_count": 3,
   "id": "90e87164",
   "metadata": {},
   "outputs": [
    {
     "name": "stdout",
     "output_type": "stream",
     "text": [
      "1\n",
      "3\n",
      "1\n"
     ]
    }
   ],
   "source": [
    "X = int(input())\n",
    "Y = int(input())\n",
    "\n",
    "if X > 0 and Y > 0 :\n",
    "    print(1)\n",
    "elif X < 0 and Y > 0 :\n",
    "    print(2)\n",
    "elif X < 0 and Y < 0 :\n",
    "    print(3)\n",
    "else :\n",
    "    print(4)"
   ]
  },
  {
   "cell_type": "markdown",
   "id": "3770ca8d",
   "metadata": {},
   "source": [
    "## 2884, [알람 시계](https://www.acmicpc.net/problem/2884)"
   ]
  },
  {
   "cell_type": "code",
   "execution_count": 1,
   "id": "ee6c83b5",
   "metadata": {},
   "outputs": [
    {
     "name": "stdout",
     "output_type": "stream",
     "text": [
      "10 24\n",
      "9 39\n"
     ]
    }
   ],
   "source": [
    "H, M = map(int, input().split())\n",
    "\n",
    "if M > 44 : \n",
    "    print(H,M-45); \n",
    "elif M < 45 and H>0 : \n",
    "    print(H-1,M+15) \n",
    "else : \n",
    "    print(23, M+15)"
   ]
  }
 ],
 "metadata": {
  "kernelspec": {
   "display_name": "Python 3 (ipykernel)",
   "language": "python",
   "name": "python3"
  },
  "language_info": {
   "codemirror_mode": {
    "name": "ipython",
    "version": 3
   },
   "file_extension": ".py",
   "mimetype": "text/x-python",
   "name": "python",
   "nbconvert_exporter": "python",
   "pygments_lexer": "ipython3",
   "version": "3.9.7"
  }
 },
 "nbformat": 4,
 "nbformat_minor": 5
}
