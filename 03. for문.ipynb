{
 "cells": [
  {
   "cell_type": "markdown",
   "id": "0cbb10a7",
   "metadata": {},
   "source": [
    "## 2739, [구구단](https://www.acmicpc.net/problem/2739)"
   ]
  },
  {
   "cell_type": "code",
   "execution_count": 5,
   "id": "b9711377",
   "metadata": {
    "scrolled": false
   },
   "outputs": [
    {
     "name": "stdout",
     "output_type": "stream",
     "text": [
      "4\n",
      "4 * 1 = 4\n",
      "4 * 2 = 8\n",
      "4 * 3 = 12\n",
      "4 * 4 = 16\n",
      "4 * 5 = 20\n",
      "4 * 6 = 24\n",
      "4 * 7 = 28\n",
      "4 * 8 = 32\n",
      "4 * 9 = 36\n"
     ]
    }
   ],
   "source": [
    "N = int(input())\n",
    "for i in range(1, 10):\n",
    "    print(N, '*', i, '=', N*i)"
   ]
  },
  {
   "cell_type": "markdown",
   "id": "95e6a301",
   "metadata": {},
   "source": [
    "## 10950, [A+B - 3](https://www.acmicpc.net/problem/10950)"
   ]
  },
  {
   "cell_type": "code",
   "execution_count": 22,
   "id": "40971225",
   "metadata": {},
   "outputs": [
    {
     "name": "stdout",
     "output_type": "stream",
     "text": [
      "4\n",
      "1 2\n",
      "3\n",
      "3 4\n",
      "7\n",
      "3 4\n",
      "7\n",
      "2 2\n",
      "4\n"
     ]
    }
   ],
   "source": [
    "t = int(input())\n",
    "\n",
    "for i in range(t):\n",
    "    a,b = map(int,input().split())\n",
    "    print(a+b)"
   ]
  },
  {
   "cell_type": "markdown",
   "id": "347f1e8a",
   "metadata": {},
   "source": [
    "## 8393, [합](https://www.acmicpc.net/problem/8393)"
   ]
  },
  {
   "cell_type": "code",
   "execution_count": 7,
   "id": "e31072fb",
   "metadata": {
    "scrolled": false
   },
   "outputs": [
    {
     "name": "stdout",
     "output_type": "stream",
     "text": [
      "4\n",
      "10\n"
     ]
    }
   ],
   "source": [
    "n = int(input())\n",
    "sum = 0\n",
    "\n",
    "for i in range(n+1):\n",
    "    sum = sum + i\n",
    "    \n",
    "print(sum)"
   ]
  },
  {
   "cell_type": "markdown",
   "id": "55b23acc",
   "metadata": {},
   "source": [
    "## 2741, [N 찍기](https://www.acmicpc.net/problem/2741)"
   ]
  },
  {
   "cell_type": "code",
   "execution_count": null,
   "id": "c40b2cbf",
   "metadata": {},
   "outputs": [],
   "source": [
    "n = int(input())\n",
    " \n",
    "for i in range(n):\n",
    "    print(i+1)"
   ]
  },
  {
   "cell_type": "markdown",
   "id": "c8337ff0",
   "metadata": {},
   "source": [
    "## 2742, [기찍 N](https://www.acmicpc.net/problem/2742)"
   ]
  },
  {
   "cell_type": "code",
   "execution_count": 19,
   "id": "1c94a838",
   "metadata": {
    "scrolled": true
   },
   "outputs": [
    {
     "name": "stdout",
     "output_type": "stream",
     "text": [
      "4\n",
      "4\n",
      "3\n",
      "2\n",
      "1\n"
     ]
    }
   ],
   "source": [
    "n = int(input())\n",
    "\n",
    "for i in range(n):\n",
    "    print(n-i)"
   ]
  },
  {
   "cell_type": "markdown",
   "id": "140ed4fd",
   "metadata": {},
   "source": [
    "## 11021, [A+B - 7](https://www.acmicpc.net/problem/11021)"
   ]
  },
  {
   "cell_type": "code",
   "execution_count": 6,
   "id": "17008254",
   "metadata": {},
   "outputs": [
    {
     "name": "stdout",
     "output_type": "stream",
     "text": [
      "3\n",
      "1 2\n",
      "case #1: 3\n",
      "4 4\n",
      "case #2: 8\n",
      "3 2\n",
      "case #3: 5\n"
     ]
    }
   ],
   "source": [
    "t = int(input())\n",
    "\n",
    "for i in range(1, t+1):\n",
    "    a,b = map(int,input().split())\n",
    "    print('Case #' + str(i) + ':', a+b)"
   ]
  }
 ],
 "metadata": {
  "kernelspec": {
   "display_name": "Python 3 (ipykernel)",
   "language": "python",
   "name": "python3"
  },
  "language_info": {
   "codemirror_mode": {
    "name": "ipython",
    "version": 3
   },
   "file_extension": ".py",
   "mimetype": "text/x-python",
   "name": "python",
   "nbconvert_exporter": "python",
   "pygments_lexer": "ipython3",
   "version": "3.9.7"
  }
 },
 "nbformat": 4,
 "nbformat_minor": 5
}
