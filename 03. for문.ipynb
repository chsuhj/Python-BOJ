{
 "cells": [
  {
   "cell_type": "markdown",
   "id": "0cbb10a7",
   "metadata": {},
   "source": [
    "## 2739, [구구단](https://www.acmicpc.net/problem/2739)"
   ]
  },
  {
   "cell_type": "code",
   "execution_count": 5,
   "id": "b9711377",
   "metadata": {
    "scrolled": false
   },
   "outputs": [
    {
     "name": "stdout",
     "output_type": "stream",
     "text": [
      "4\n",
      "4 * 1 = 4\n",
      "4 * 2 = 8\n",
      "4 * 3 = 12\n",
      "4 * 4 = 16\n",
      "4 * 5 = 20\n",
      "4 * 6 = 24\n",
      "4 * 7 = 28\n",
      "4 * 8 = 32\n",
      "4 * 9 = 36\n"
     ]
    }
   ],
   "source": [
    "N = int(input())\n",
    "for i in range(1, 10):\n",
    "    print(N, '*', i, '=', N*i)"
   ]
  },
  {
   "cell_type": "markdown",
   "id": "95e6a301",
   "metadata": {},
   "source": [
    "## 10950, [A+B - 3](https://www.acmicpc.net/problem/10950)"
   ]
  },
  {
   "cell_type": "code",
   "execution_count": 22,
   "id": "40971225",
   "metadata": {},
   "outputs": [
    {
     "name": "stdout",
     "output_type": "stream",
     "text": [
      "4\n",
      "1 2\n",
      "3\n",
      "3 4\n",
      "7\n",
      "3 4\n",
      "7\n",
      "2 2\n",
      "4\n"
     ]
    }
   ],
   "source": [
    "t = int(input())\n",
    "\n",
    "for i in range(t):\n",
    "    a,b = map(int,input().split())\n",
    "    print(a+b)"
   ]
  },
  {
   "cell_type": "markdown",
   "id": "347f1e8a",
   "metadata": {},
   "source": [
    "## 8393, [합](https://www.acmicpc.net/problem/8393)"
   ]
  },
  {
   "cell_type": "code",
   "execution_count": 7,
   "id": "e31072fb",
   "metadata": {
    "scrolled": false
   },
   "outputs": [
    {
     "name": "stdout",
     "output_type": "stream",
     "text": [
      "4\n",
      "10\n"
     ]
    }
   ],
   "source": [
    "n = int(input())\n",
    "sum = 0\n",
    "\n",
    "for i in range(n+1):\n",
    "    sum = sum + i\n",
    "    \n",
    "print(sum)"
   ]
  },
  {
   "cell_type": "markdown",
   "id": "a489e4e3",
   "metadata": {},
   "source": [
    "## 15552, [빠른 A+B](https://www.acmicpc.net/problem/15552)"
   ]
  },
  {
   "cell_type": "code",
   "execution_count": 17,
   "id": "57a9dad9",
   "metadata": {
    "collapsed": true
   },
   "outputs": [
    {
     "ename": "ValueError",
     "evalue": "invalid literal for int() with base 10: ''",
     "output_type": "error",
     "traceback": [
      "\u001b[1;31m---------------------------------------------------------------------------\u001b[0m",
      "\u001b[1;31mValueError\u001b[0m                                Traceback (most recent call last)",
      "\u001b[1;32m~\\AppData\\Local\\Temp/ipykernel_13260/158753766.py\u001b[0m in \u001b[0;36m<module>\u001b[1;34m\u001b[0m\n\u001b[0;32m      1\u001b[0m \u001b[1;32mimport\u001b[0m \u001b[0msys\u001b[0m\u001b[1;33m\u001b[0m\u001b[1;33m\u001b[0m\u001b[0m\n\u001b[1;32m----> 2\u001b[1;33m \u001b[0mcase\u001b[0m \u001b[1;33m=\u001b[0m \u001b[0mint\u001b[0m\u001b[1;33m(\u001b[0m\u001b[0msys\u001b[0m\u001b[1;33m.\u001b[0m\u001b[0mstdin\u001b[0m\u001b[1;33m.\u001b[0m\u001b[0mreadline\u001b[0m\u001b[1;33m(\u001b[0m\u001b[1;33m)\u001b[0m\u001b[1;33m)\u001b[0m\u001b[1;33m\u001b[0m\u001b[1;33m\u001b[0m\u001b[0m\n\u001b[0m\u001b[0;32m      3\u001b[0m \u001b[1;33m\u001b[0m\u001b[0m\n\u001b[0;32m      4\u001b[0m \u001b[1;32mfor\u001b[0m \u001b[0mi\u001b[0m \u001b[1;32min\u001b[0m \u001b[0mrange\u001b[0m\u001b[1;33m(\u001b[0m\u001b[0mcase\u001b[0m\u001b[1;33m)\u001b[0m\u001b[1;33m:\u001b[0m\u001b[1;33m\u001b[0m\u001b[1;33m\u001b[0m\u001b[0m\n\u001b[0;32m      5\u001b[0m     \u001b[0ma\u001b[0m\u001b[1;33m,\u001b[0m \u001b[0mb\u001b[0m \u001b[1;33m=\u001b[0m \u001b[0mmap\u001b[0m\u001b[1;33m(\u001b[0m\u001b[0mint\u001b[0m\u001b[1;33m,\u001b[0m \u001b[0msys\u001b[0m\u001b[1;33m.\u001b[0m\u001b[0mstdin\u001b[0m\u001b[1;33m.\u001b[0m\u001b[0mreadline\u001b[0m\u001b[1;33m(\u001b[0m\u001b[1;33m)\u001b[0m\u001b[1;33m.\u001b[0m\u001b[0msplit\u001b[0m\u001b[1;33m(\u001b[0m\u001b[1;33m)\u001b[0m\u001b[1;33m)\u001b[0m\u001b[1;33m\u001b[0m\u001b[1;33m\u001b[0m\u001b[0m\n",
      "\u001b[1;31mValueError\u001b[0m: invalid literal for int() with base 10: ''"
     ]
    }
   ],
   "source": [
    "import sys\n",
    "case = int(sys.stdin.readline())\n",
    "\n",
    "for i in range(case):\n",
    "    a, b = map(int, sys.stdin.readline().split())\n",
    "    print(a + b)"
   ]
  },
  {
   "cell_type": "markdown",
   "id": "55b23acc",
   "metadata": {},
   "source": [
    "## 2741, [N 찍기](https://www.acmicpc.net/problem/2741)"
   ]
  },
  {
   "cell_type": "code",
   "execution_count": null,
   "id": "c40b2cbf",
   "metadata": {},
   "outputs": [],
   "source": [
    "n = int(input())\n",
    " \n",
    "for i in range(n):\n",
    "    print(i+1)"
   ]
  },
  {
   "cell_type": "markdown",
   "id": "c8337ff0",
   "metadata": {},
   "source": [
    "## 2742, [기찍 N](https://www.acmicpc.net/problem/2742)"
   ]
  },
  {
   "cell_type": "code",
   "execution_count": 19,
   "id": "1c94a838",
   "metadata": {
    "scrolled": true
   },
   "outputs": [
    {
     "name": "stdout",
     "output_type": "stream",
     "text": [
      "4\n",
      "4\n",
      "3\n",
      "2\n",
      "1\n"
     ]
    }
   ],
   "source": [
    "n = int(input())\n",
    "\n",
    "for i in range(n):\n",
    "    print(n-i)"
   ]
  },
  {
   "cell_type": "markdown",
   "id": "140ed4fd",
   "metadata": {},
   "source": [
    "## 11021, [A+B - 7](https://www.acmicpc.net/problem/11021)"
   ]
  },
  {
   "cell_type": "code",
   "execution_count": 6,
   "id": "17008254",
   "metadata": {},
   "outputs": [
    {
     "name": "stdout",
     "output_type": "stream",
     "text": [
      "3\n",
      "1 2\n",
      "case #1: 3\n",
      "4 4\n",
      "case #2: 8\n",
      "3 2\n",
      "case #3: 5\n"
     ]
    }
   ],
   "source": [
    "t = int(input())\n",
    "\n",
    "for i in range(1, t+1):\n",
    "    a,b = map(int,input().split())\n",
    "    print('Case #' + str(i) + ':', a+b)"
   ]
  },
  {
   "cell_type": "markdown",
   "id": "60594d52",
   "metadata": {},
   "source": [
    "## 11022, [A+B - 8](https://www.acmicpc.net/problem/11022)"
   ]
  },
  {
   "cell_type": "code",
   "execution_count": 19,
   "id": "2a716238",
   "metadata": {
    "scrolled": false
   },
   "outputs": [
    {
     "name": "stdout",
     "output_type": "stream",
     "text": [
      "3\n",
      "1 2\n",
      "Case #1: 1 + 2 = 3\n",
      "1 2\n",
      "Case #2: 1 + 2 = 3\n",
      "1 2\n",
      "Case #3: 1 + 2 = 3\n"
     ]
    }
   ],
   "source": [
    "t = int(input())\n",
    "\n",
    "for i in range(1, t+1):\n",
    "    a,b = map(int,input().split())\n",
    "    print('Case #' + str(i) + ':', a, '+', b, '=', a+b)"
   ]
  },
  {
   "cell_type": "markdown",
   "id": "70dbf4db",
   "metadata": {},
   "source": [
    "## 2438, [별 찍기 - 1](https://www.acmicpc.net/problem/2438)"
   ]
  },
  {
   "cell_type": "code",
   "execution_count": 2,
   "id": "dc34946f",
   "metadata": {
    "scrolled": true
   },
   "outputs": [
    {
     "name": "stdout",
     "output_type": "stream",
     "text": [
      "4\n",
      "*\n",
      "**\n",
      "***\n",
      "****\n"
     ]
    }
   ],
   "source": [
    "t = int(input())\n",
    "\n",
    "for i in range(1, t+1):\n",
    "    print('*' * i)"
   ]
  },
  {
   "cell_type": "markdown",
   "id": "8a1b1942",
   "metadata": {},
   "source": [
    "## 2439, [별 찍기 - 2](https://www.acmicpc.net/problem/2439)"
   ]
  },
  {
   "cell_type": "code",
   "execution_count": 3,
   "id": "3ac8c7a0",
   "metadata": {
    "scrolled": false
   },
   "outputs": [
    {
     "name": "stdout",
     "output_type": "stream",
     "text": [
      "4\n",
      "   *\n",
      "  **\n",
      " ***\n",
      "****\n"
     ]
    }
   ],
   "source": [
    "t = int(input())\n",
    "\n",
    "for i in range(1, t+1):\n",
    "    print(' ' * (t-i) + '*' * i)"
   ]
  },
  {
   "cell_type": "markdown",
   "id": "c468744b",
   "metadata": {},
   "source": [
    "## 10871, [X보다 작은 수](https://www.acmicpc.net/problem/10871)"
   ]
  },
  {
   "cell_type": "code",
   "execution_count": 16,
   "id": "397af9c5",
   "metadata": {},
   "outputs": [
    {
     "name": "stdout",
     "output_type": "stream",
     "text": [
      "4 7\n",
      "1 2 3 4\n",
      "1 2 3 4 "
     ]
    }
   ],
   "source": [
    "N, X = map(int,input().split())\n",
    "\n",
    "A = list(map(int,input().split()))\n",
    "for i in range(N):\n",
    "    if A[i] < X :\n",
    "        print(A[i], end=' ')"
   ]
  }
 ],
 "metadata": {
  "kernelspec": {
   "display_name": "Python 3 (ipykernel)",
   "language": "python",
   "name": "python3"
  },
  "language_info": {
   "codemirror_mode": {
    "name": "ipython",
    "version": 3
   },
   "file_extension": ".py",
   "mimetype": "text/x-python",
   "name": "python",
   "nbconvert_exporter": "python",
   "pygments_lexer": "ipython3",
   "version": "3.9.7"
  }
 },
 "nbformat": 4,
 "nbformat_minor": 5
}
