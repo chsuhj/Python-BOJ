{
 "cells": [
  {
   "cell_type": "markdown",
   "id": "f9050579",
   "metadata": {},
   "source": [
    "# 단계별로 풀어보기 (백준OJ)\n",
    "\n",
    "# 1단계 입출력과 사칙연산.\n",
    "\n",
    "."
   ]
  },
  {
   "cell_type": "markdown",
   "id": "b1ceb672",
   "metadata": {},
   "source": [
    "## 2557, [Hello World](https://www.acmicpc.net/problem/2557)"
   ]
  },
  {
   "cell_type": "code",
   "execution_count": 13,
   "id": "15478f9a",
   "metadata": {
    "scrolled": false
   },
   "outputs": [
    {
     "name": "stdout",
     "output_type": "stream",
     "text": [
      "Hello World!\n"
     ]
    }
   ],
   "source": [
    "print('Hello World!')"
   ]
  },
  {
   "cell_type": "markdown",
   "id": "db442481",
   "metadata": {},
   "source": [
    "## 10718, [We love kriii](https://www.acmicpc.net/problem/10718)"
   ]
  },
  {
   "cell_type": "code",
   "execution_count": 9,
   "id": "76e7b6c5",
   "metadata": {
    "scrolled": true
   },
   "outputs": [
    {
     "name": "stdout",
     "output_type": "stream",
     "text": [
      "강한친구 대한육군\n",
      "강한친구 대한육군\n"
     ]
    }
   ],
   "source": [
    "print('강한친구 대한육군')\n",
    "print('강한친구 대한육군')"
   ]
  },
  {
   "cell_type": "markdown",
   "id": "cb6ce643",
   "metadata": {},
   "source": [
    "## 10171, [고양이](https://www.acmicpc.net/problem/10171)"
   ]
  },
  {
   "cell_type": "code",
   "execution_count": 9,
   "id": "e90d539e",
   "metadata": {},
   "outputs": [
    {
     "name": "stdout",
     "output_type": "stream",
     "text": [
      "\\    /\\\n",
      " )  ( ')\n",
      "(  /  )\n",
      " \\(__)|\n"
     ]
    }
   ],
   "source": [
    "print(\"\\\\    /\\\\\")\n",
    "print(\" )  ( ')\")\n",
    "print(\"(  /  )\")\n",
    "print(\" \\\\(__)|\")"
   ]
  },
  {
   "cell_type": "markdown",
   "id": "dfe4da74",
   "metadata": {},
   "source": [
    "## 10172, [개](https://www.acmicpc.net/problem/10172)"
   ]
  },
  {
   "cell_type": "code",
   "execution_count": 10,
   "id": "9f825ea4",
   "metadata": {
    "scrolled": false
   },
   "outputs": [
    {
     "name": "stdout",
     "output_type": "stream",
     "text": [
      "|\\_/|\n",
      "|q p|   /}\n",
      "( 0 )\"\"\"\\\n",
      "|\"^\"`    |\n",
      "||_/=\\\\__|\n"
     ]
    }
   ],
   "source": [
    "print(r'|\\_/|')\n",
    "print(r'|q p|   /}')\n",
    "print('( 0 )''\"\"\"''\\\\')\n",
    "print(r'|\"^\"`    |')\n",
    "print(r'||_/=\\\\__|')"
   ]
  },
  {
   "cell_type": "markdown",
   "id": "94657efa",
   "metadata": {},
   "source": [
    "## 1000, [A+B](https://www.acmicpc.net/problem/1000)"
   ]
  },
  {
   "cell_type": "code",
   "execution_count": 4,
   "id": "79e665fb",
   "metadata": {
    "scrolled": false
   },
   "outputs": [
    {
     "name": "stdout",
     "output_type": "stream",
     "text": [
      "1 2\n",
      "3\n"
     ]
    }
   ],
   "source": [
    "A, B = input().split()\n",
    "print(int(A)+int(B))"
   ]
  },
  {
   "cell_type": "markdown",
   "id": "218199bf",
   "metadata": {},
   "source": [
    "## 1001, [A-B](https://www.acmicpc.net/problem/1001)"
   ]
  },
  {
   "cell_type": "code",
   "execution_count": 6,
   "id": "02526539",
   "metadata": {
    "scrolled": false
   },
   "outputs": [
    {
     "name": "stdout",
     "output_type": "stream",
     "text": [
      "1 2\n",
      "-1\n"
     ]
    }
   ],
   "source": [
    "A, B = input().split()\n",
    "print(int(A)-int(B))"
   ]
  },
  {
   "cell_type": "markdown",
   "id": "97420d18",
   "metadata": {},
   "source": [
    "## 10998, [AxB](https://www.acmicpc.net/problem/10998)"
   ]
  },
  {
   "cell_type": "code",
   "execution_count": 15,
   "id": "805a4c1a",
   "metadata": {
    "scrolled": true
   },
   "outputs": [
    {
     "name": "stdout",
     "output_type": "stream",
     "text": [
      "1 2\n",
      "2\n"
     ]
    }
   ],
   "source": [
    "A, B = input().split()\n",
    "print(int(A)*int(B))"
   ]
  },
  {
   "cell_type": "markdown",
   "id": "bff85bf4",
   "metadata": {},
   "source": [
    "## 1008, [A/B](https://www.acmicpc.net/problem/1008)"
   ]
  },
  {
   "cell_type": "code",
   "execution_count": 16,
   "id": "c5799758",
   "metadata": {},
   "outputs": [
    {
     "name": "stdout",
     "output_type": "stream",
     "text": [
      "1 2\n",
      "0.5\n"
     ]
    }
   ],
   "source": [
    "A, B = input().split()\n",
    "print(int(A)/int(B))"
   ]
  },
  {
   "cell_type": "markdown",
   "id": "b874350c",
   "metadata": {},
   "source": [
    "## 10869, [사칙연산](https://www.acmicpc.net/problem/10869)"
   ]
  },
  {
   "cell_type": "code",
   "execution_count": 9,
   "id": "0b18e439",
   "metadata": {
    "scrolled": true
   },
   "outputs": [
    {
     "name": "stdout",
     "output_type": "stream",
     "text": [
      "1 2\n",
      "3\n",
      "-1\n",
      "2\n",
      "0\n",
      "1\n"
     ]
    }
   ],
   "source": [
    "A, B = input().split()\n",
    "A = int(A)\n",
    "B = int(B)\n",
    "\n",
    "print(A+B, A-B, A*B, A//B, A%B, sep='\\n')"
   ]
  },
  {
   "cell_type": "markdown",
   "id": "05e24fe1",
   "metadata": {},
   "source": [
    "## 10926, [??!](https://www.acmicpc.net/problem/10926)"
   ]
  },
  {
   "cell_type": "code",
   "execution_count": 4,
   "id": "deb4dc16",
   "metadata": {},
   "outputs": [
    {
     "name": "stdout",
     "output_type": "stream",
     "text": [
      "hj\n",
      "hj??!\n"
     ]
    }
   ],
   "source": [
    "A = str(input())\n",
    "\n",
    "print(A + '??!')"
   ]
  },
  {
   "cell_type": "markdown",
   "id": "05289d74",
   "metadata": {},
   "source": [
    "## 18108, [1998년생인 내가 태국에서는 2541년생?!](https://www.acmicpc.net/problem/18108)"
   ]
  },
  {
   "cell_type": "code",
   "execution_count": 1,
   "id": "850e4454",
   "metadata": {},
   "outputs": [
    {
     "name": "stdout",
     "output_type": "stream",
     "text": [
      "2009\n",
      "1466\n"
     ]
    }
   ],
   "source": [
    "N = int(input())\n",
    "\n",
    "print(N - 543)"
   ]
  },
  {
   "cell_type": "markdown",
   "id": "d0a86218",
   "metadata": {},
   "source": [
    "## 10430, [나머지](https://www.acmicpc.net/problem/10430)"
   ]
  },
  {
   "cell_type": "code",
   "execution_count": 17,
   "id": "09e85bdc",
   "metadata": {},
   "outputs": [
    {
     "name": "stdout",
     "output_type": "stream",
     "text": [
      "1 2 3\n",
      "0\n",
      "0\n",
      "2\n",
      "2\n"
     ]
    }
   ],
   "source": [
    "A, B, C = input().split()\n",
    "A = int(A)\n",
    "B = int(B)\n",
    "C = int(C)\n",
    "\n",
    "print((A+B)%C, ((A%C)+(B%C))%C, (A*B)%C, ((A%C)*(B%C))%C, sep='\\n')"
   ]
  },
  {
   "cell_type": "markdown",
   "id": "d8bfcccf",
   "metadata": {},
   "source": [
    "## 2588, [곱셈](https://www.acmicpc.net/problem/2588)"
   ]
  },
  {
   "cell_type": "code",
   "execution_count": 25,
   "id": "660c6f60",
   "metadata": {
    "scrolled": false
   },
   "outputs": [
    {
     "name": "stdout",
     "output_type": "stream",
     "text": [
      "123\n",
      "456\n",
      "738\n",
      "615\n",
      "492\n",
      "56088\n"
     ]
    }
   ],
   "source": [
    "A = input()\n",
    "B = input()\n",
    "\n",
    "print(int(A) * int(B[2]))\n",
    "print(int(A) * int(B[1]))\n",
    "print(int(A) * int(B[0]))\n",
    "print(int(A) * int(B))"
   ]
  },
  {
   "cell_type": "markdown",
   "id": "378b179d",
   "metadata": {},
   "source": [
    "# 10172 개 문제에 대한 탐구\n",
    "\n",
    "Raw 스트링의 마지막이 역슬래시(\\)일 때 '를 닫지 못하는 문제를 알게되었음\n",
    "\n",
    "이는 r'' 일 때 ''를 구성하는 문장이 문법적으로 맞는지 먼저 확인한 후\n",
    "\n",
    "문장을 출력하게 되는데, \\'로 '가 사라지니까 닫지 못하기 때문으로 보임\n",
    "\n",
    "지식의출처 - https://stackoverflow.com/questions/9993390/python-literal-r-not-accepted"
   ]
  },
  {
   "cell_type": "code",
   "execution_count": 43,
   "id": "d6d84d04",
   "metadata": {
    "scrolled": true
   },
   "outputs": [
    {
     "ename": "SyntaxError",
     "evalue": "EOL while scanning string literal (Temp/ipykernel_2028/2887283562.py, line 1)",
     "output_type": "error",
     "traceback": [
      "\u001b[1;36m  File \u001b[1;32m\"C:\\Users\\CHJ\\AppData\\Local\\Temp/ipykernel_2028/2887283562.py\"\u001b[1;36m, line \u001b[1;32m1\u001b[0m\n\u001b[1;33m    print(r'( 0 )\"\"\"\\')\u001b[0m\n\u001b[1;37m                       ^\u001b[0m\n\u001b[1;31mSyntaxError\u001b[0m\u001b[1;31m:\u001b[0m EOL while scanning string literal\n"
     ]
    }
   ],
   "source": [
    "print(r'( 0 )\"\"\"\\')"
   ]
  },
  {
   "cell_type": "code",
   "execution_count": 44,
   "id": "3db9a37a",
   "metadata": {
    "scrolled": false
   },
   "outputs": [
    {
     "ename": "SyntaxError",
     "evalue": "unexpected character after line continuation character (Temp/ipykernel_2028/2571002005.py, line 1)",
     "output_type": "error",
     "traceback": [
      "\u001b[1;36m  File \u001b[1;32m\"C:\\Users\\CHJ\\AppData\\Local\\Temp/ipykernel_2028/2571002005.py\"\u001b[1;36m, line \u001b[1;32m1\u001b[0m\n\u001b[1;33m    print(r\"( 0 )\"\"\"\\\")\u001b[0m\n\u001b[1;37m                      ^\u001b[0m\n\u001b[1;31mSyntaxError\u001b[0m\u001b[1;31m:\u001b[0m unexpected character after line continuation character\n"
     ]
    }
   ],
   "source": [
    "print(r\"( 0 )\"\"\"\\\")"
   ]
  },
  {
   "cell_type": "code",
   "execution_count": 36,
   "id": "5e0f0170",
   "metadata": {
    "scrolled": true
   },
   "outputs": [
    {
     "name": "stdout",
     "output_type": "stream",
     "text": [
      "|\\_/|\n",
      "|q p|   /}\n",
      "( 0 )\"\"\"\\\n",
      "|\"^\"`    |\n",
      "||_/=\\\\__|\n"
     ]
    }
   ],
   "source": [
    "print(r'''|\\_/|\n",
    "|q p|   /}\n",
    "( 0 )\"\"\"\\\n",
    "|\"^\"`    |\n",
    "||_/=\\\\__|''')"
   ]
  }
 ],
 "metadata": {
  "kernelspec": {
   "display_name": "Python 3 (ipykernel)",
   "language": "python",
   "name": "python3"
  },
  "language_info": {
   "codemirror_mode": {
    "name": "ipython",
    "version": 3
   },
   "file_extension": ".py",
   "mimetype": "text/x-python",
   "name": "python",
   "nbconvert_exporter": "python",
   "pygments_lexer": "ipython3",
   "version": "3.9.7"
  }
 },
 "nbformat": 4,
 "nbformat_minor": 5
}
